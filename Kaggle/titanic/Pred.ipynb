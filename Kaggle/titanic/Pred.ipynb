{
 "cells": [
  {
   "cell_type": "code",
   "execution_count": 2,
   "metadata": {},
   "outputs": [],
   "source": [
    "import numpy as np\n",
    "import pandas as pd\n",
    "train = pd.read_csv(\"train.csv\")\n",
    "\n",
    "test = pd.read_csv(\"test.csv\")"
   ]
  },
  {
   "cell_type": "code",
   "execution_count": 3,
   "metadata": {},
   "outputs": [
    {
     "name": "stderr",
     "output_type": "stream",
     "text": [
      "/anaconda/lib/python3.6/site-packages/pandas/core/indexing.py:179: SettingWithCopyWarning: \n",
      "A value is trying to be set on a copy of a slice from a DataFrame\n",
      "\n",
      "See the caveats in the documentation: http://pandas.pydata.org/pandas-docs/stable/indexing.html#indexing-view-versus-copy\n",
      "  self._setitem_with_indexer(indexer, value)\n"
     ]
    }
   ],
   "source": [
    "Emap = {'S': 1, 'C': 2, 'Q': 3}\n",
    "train.Embarked.loc[pd.isnull(train.Embarked)] = 'S'\n",
    "datasets = [train, test]\n",
    "for dataset in datasets:\n",
    "    dataset[\"EmbarkedMap\"] = dataset.Embarked.map(Emap)\n",
    "CabinMap = {'NaN': 0, 'A': 1, 'B': 2, 'C': 3, 'D': 4, 'E': 5, 'F': 6, 'G': 7, 'T': 8}\n",
    "for dataset in datasets:\n",
    "    dataset['HasCabin'] = 0\n",
    "    dataset.HasCabin.loc[pd.notnull(dataset.Cabin)] = 1\n",
    "    dataset[\"CMap\"] = dataset.Cabin.str[0].map(CabinMap)\n",
    "    dataset.CMap.fillna(0, inplace=True)\n",
    "trainages = np.random.randint(train.Age.mean() - train.Age.std(), train.Age.mean() + train.Age.std(),\n",
    "                              size=sum(pd.isnull(train.Age)))\n",
    "testages = np.random.randint(test.Age.mean() - test.Age.std(), test.Age.mean() + test.Age.std(),\n",
    "                             size=sum(pd.isnull(test.Age)))\n",
    "train.Age.loc[pd.isnull(train.Age)] = trainages\n",
    "test.Age.loc[pd.isnull(test.Age)] = testages\n",
    "for dataset in datasets:\n",
    "    dataset[\"Male\"] = 0\n",
    "    dataset.Male.loc[dataset.Sex == 'male'] = 1\n",
    "    dataset[\"Title\"] = dataset.Name.str.extract('( [A-Za-z]+)\\.', expand=False)\n",
    "d = dict(zip(np.unique(train.Title), np.arange(1, 18)))\n",
    "for dataset in datasets:\n",
    "    dataset['TMap'] = dataset.Title.map(d)\n",
    "    dataset.drop(['Name', 'Sex', 'Ticket', 'Cabin', 'Embarked'], 1, inplace=True)\n",
    "    dataset.TMap.loc[dataset.TMap == 1] = 0\n",
    "    dataset.TMap.loc[dataset.TMap == 2] = 0\n",
    "    dataset.TMap.loc[dataset.TMap == 3] = 0\n",
    "    dataset.TMap.loc[dataset.TMap == 4] = 0\n",
    "    dataset.TMap.loc[dataset.TMap == 5] = 0\n",
    "    dataset.TMap.loc[dataset.TMap == 6] = 0\n",
    "    dataset.TMap.loc[dataset.TMap == 7] = 0\n",
    "    dataset.TMap.loc[dataset.TMap == 8] = 0\n",
    "    dataset.TMap.loc[dataset.TMap == 13] = 0\n",
    "    dataset.TMap.loc[dataset.TMap == 14] = 0\n",
    "    dataset.TMap.loc[dataset.TMap == 15] = 0\n",
    "test.Fare.loc[pd.isnull(test.Fare)] = test.Fare.mean()\n",
    "for dataset in datasets:\n",
    "    dataset['Pclass1'] = 0\n",
    "    dataset['Pclass2'] = 0\n",
    "    dataset['Pclass3'] = 0\n",
    "    dataset.Pclass1.loc[dataset.Pclass == 1] = 1\n",
    "    dataset.Pclass2.loc[dataset.Pclass == 2] = 1\n",
    "    dataset.Pclass3.loc[dataset.Pclass == 3] = 1\n",
    "    dataset['EMap1'] = 0\n",
    "    dataset['EMap2'] = 0\n",
    "    dataset['EMap3'] = 0\n",
    "    dataset.EMap1.loc[dataset.EmbarkedMap == 1] = 1\n",
    "    dataset.EMap2.loc[dataset.EmbarkedMap == 2] = 1\n",
    "    dataset.EMap3.loc[dataset.EmbarkedMap == 3] = 1\n",
    "    dataset['TMap1'] = 0\n",
    "    dataset['TMap2'] = 0\n",
    "    dataset['TMap3'] = 0\n",
    "    dataset['TMap4'] = 0\n",
    "    dataset['TMap5'] = 0\n",
    "    dataset.TMap1.loc[dataset.TMap == 0] = 1\n",
    "    dataset.TMap2.loc[dataset.TMap == 9] = 1\n",
    "    dataset.TMap3.loc[dataset.TMap == 10] = 1\n",
    "    dataset.TMap4.loc[dataset.TMap == 11] = 1\n",
    "    dataset.TMap5.loc[dataset.TMap == 12] = 1"
   ]
  },
  {
   "cell_type": "code",
   "execution_count": 5,
   "metadata": {},
   "outputs": [
    {
     "name": "stdout",
     "output_type": "stream",
     "text": [
      "<class 'pandas.core.frame.DataFrame'>\n",
      "RangeIndex: 891 entries, 0 to 890\n",
      "Data columns (total 24 columns):\n",
      "PassengerId    891 non-null int64\n",
      "Survived       891 non-null int64\n",
      "Pclass         891 non-null int64\n",
      "Age            891 non-null float64\n",
      "SibSp          891 non-null int64\n",
      "Parch          891 non-null int64\n",
      "Fare           891 non-null float64\n",
      "EmbarkedMap    891 non-null int64\n",
      "HasCabin       891 non-null int64\n",
      "CMap           891 non-null float64\n",
      "Male           891 non-null int64\n",
      "Title          891 non-null object\n",
      "TMap           891 non-null int64\n",
      "Pclass1        891 non-null int64\n",
      "Pclass2        891 non-null int64\n",
      "Pclass3        891 non-null int64\n",
      "EMap1          891 non-null int64\n",
      "EMap2          891 non-null int64\n",
      "EMap3          891 non-null int64\n",
      "TMap1          891 non-null int64\n",
      "TMap2          891 non-null int64\n",
      "TMap3          891 non-null int64\n",
      "TMap4          891 non-null int64\n",
      "TMap5          891 non-null int64\n",
      "dtypes: float64(3), int64(20), object(1)\n",
      "memory usage: 167.1+ KB\n"
     ]
    }
   ],
   "source": [
    "train.info()\n",
    "from sklearn.model_selection import train_test_split\n",
    "train1, train2 = train_test_split(train, test_size=0.20, random_state=33)\n",
    "from sklearn.ensemble import RandomForestClassifier\n",
    "clf = RandomForestClassifier(n_estimators=100, criterion='entropy')\n",
    "clf.fit(train.drop(['Survived', 'PassengerId', 'TMap', 'Title'], 1, inplace=False),train.Survived)\n",
    "clf.score(train2.drop(['Survived', 'PassengerId', 'TMap', 'Title'], 1, inplace=False),train2.Survived)\n",
    "train2_pred = clf.predict(\n",
    "    train2.drop(['Survived', 'PassengerId', 'TMap', 'Title'], 1, inplace=False))\n",
    "from sklearn.metrics import confusion_matrix\n",
    "cm = confusion_matrix(train2.Survived, train2_pred)\n",
    "arr = pd.Series(clf.predict(test.drop(['PassengerId', 'TMap', 'Title'], 1, inplace=False)),name='Survived')\n",
    "df = pd.concat([test.PassengerId, arr], axis=1)\n",
    "df.to_csv('pred1.csv', sep=',', index=False)"
   ]
  }
 ],
 "metadata": {
  "kernelspec": {
   "display_name": "Python 3",
   "language": "python",
   "name": "python3"
  },
  "language_info": {
   "codemirror_mode": {
    "name": "ipython",
    "version": 3
   },
   "file_extension": ".py",
   "mimetype": "text/x-python",
   "name": "python",
   "nbconvert_exporter": "python",
   "pygments_lexer": "ipython3",
   "version": "3.6.8"
  }
 },
 "nbformat": 4,
 "nbformat_minor": 2
}
